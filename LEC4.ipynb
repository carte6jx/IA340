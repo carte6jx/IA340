{
 "cells": [
  {
   "cell_type": "markdown",
   "id": "f47e6553",
   "metadata": {},
   "source": [
    "# lec 4 use SQL\n",
    "## review python"
   ]
  },
  {
   "cell_type": "code",
   "execution_count": 3,
   "id": "aa0daaf2",
   "metadata": {},
   "outputs": [
    {
     "name": "stdout",
     "output_type": "stream",
     "text": [
      "this\n",
      "is\n",
      "my\n",
      "string\n"
     ]
    }
   ],
   "source": [
    "demo_str = 'this is my string'\n",
    "\n",
    "for word_item in demo_str.split():\n",
    "    print(word_item)"
   ]
  },
  {
   "cell_type": "code",
   "execution_count": 4,
   "id": "721adf6b",
   "metadata": {},
   "outputs": [
    {
     "name": "stdout",
     "output_type": "stream",
     "text": [
      " 1 + 2 = 3 \n"
     ]
    }
   ],
   "source": [
    "print(' {} + {} = {} '.format(1,2,1+2))"
   ]
  },
  {
   "cell_type": "code",
   "execution_count": null,
   "id": "7325214f",
   "metadata": {},
   "outputs": [],
   "source": []
  }
 ],
 "metadata": {
  "kernelspec": {
   "display_name": "conda_python3",
   "language": "python",
   "name": "conda_python3"
  },
  "language_info": {
   "codemirror_mode": {
    "name": "ipython",
    "version": 3
   },
   "file_extension": ".py",
   "mimetype": "text/x-python",
   "name": "python",
   "nbconvert_exporter": "python",
   "pygments_lexer": "ipython3",
   "version": "3.6.13"
  }
 },
 "nbformat": 4,
 "nbformat_minor": 5
}
